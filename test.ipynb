{
 "cells": [
  {
   "cell_type": "code",
   "execution_count": 5,
   "id": "234e82c5",
   "metadata": {},
   "outputs": [
    {
     "name": "stdout",
     "output_type": "stream",
     "text": [
      "Successfully extracted 206 stocks to obx.json\n"
     ]
    }
   ],
   "source": [
    "import pandas as pd\n",
    "import json\n",
    "from datetime import datetime\n",
    "\n",
    "def extract_stock_info(csv_file, output_file):\n",
    "    \"\"\"\n",
    "    Extract Name and Symbol columns from Euronext CSV and save to JSON file\n",
    "    \"\"\"\n",
    "    try:\n",
    "        # Read the CSV file with semicolon delimiter\n",
    "        df = pd.read_csv(csv_file, delimiter=';')\n",
    "        \n",
    "        # Extract Name and Symbol columns\n",
    "        stock_info = df[['Name', 'Symbol']].copy()\n",
    "        \n",
    "        # Remove any rows with missing data\n",
    "        stock_info = stock_info.dropna()\n",
    "        \n",
    "        # Convert to list of dictionaries for JSON\n",
    "        stocks_list = []\n",
    "        for _, row in stock_info.iterrows():\n",
    "            stocks_list.append({\n",
    "                \"name\": row['Name'],\n",
    "                \"symbol\": row['Symbol']\n",
    "            })\n",
    "        \n",
    "        # Create final JSON structure with metadata\n",
    "        output_data = {\n",
    "            \"metadata\": {\n",
    "                \"source\": \"Euronext\",\n",
    "                \"extracted_date\": datetime.now().isoformat(),\n",
    "                \"total_stocks\": len(stocks_list)\n",
    "            },\n",
    "            \"stocks\": stocks_list\n",
    "        }\n",
    "        \n",
    "        # Save to JSON file\n",
    "        with open(output_file, 'w', encoding='utf-8') as f:\n",
    "            json.dump(output_data, f, indent=2, ensure_ascii=False)\n",
    "        \n",
    "        print(f\"Successfully extracted {len(stocks_list)} stocks to {output_file}\")\n",
    "        \n",
    "    except Exception as e:\n",
    "        print(f\"Error processing file: {e}\")\n",
    "\n",
    "# Usage\n",
    "csv_filename = \"obx_orig.csv\"\n",
    "output_filename = \"obx.json\"\n",
    "\n",
    "extract_stock_info(csv_filename, output_filename)"
   ]
  }
 ],
 "metadata": {
  "kernelspec": {
   "display_name": ".venv",
   "language": "python",
   "name": "python3"
  },
  "language_info": {
   "codemirror_mode": {
    "name": "ipython",
    "version": 3
   },
   "file_extension": ".py",
   "mimetype": "text/x-python",
   "name": "python",
   "nbconvert_exporter": "python",
   "pygments_lexer": "ipython3",
   "version": "3.13.7"
  }
 },
 "nbformat": 4,
 "nbformat_minor": 5
}
